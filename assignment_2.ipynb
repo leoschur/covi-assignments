{
 "cells": [
  {
   "cell_type": "code",
   "execution_count": null,
   "metadata": {},
   "outputs": [],
   "source": [
    "import numpy as np\n",
    "import matplotlib.pyplot as plt"
   ]
  },
  {
   "cell_type": "code",
   "execution_count": null,
   "metadata": {},
   "outputs": [],
   "source": [
    "# binary_mask = intensity >= 100 - binary_mask\n",
    "# are (p1, p2) coord valid\n",
    "# brute force search path or A*\n",
    "# display path"
   ]
  }
 ],
 "metadata": {
  "kernelspec": {
   "display_name": "env",
   "language": "python",
   "name": "python3"
  },
  "language_info": {
   "name": "python",
   "version": "3.11.1 (main, Dec  7 2022, 00:00:00) [GCC 12.2.1 20221121 (Red Hat 12.2.1-4)]"
  },
  "orig_nbformat": 4,
  "vscode": {
   "interpreter": {
    "hash": "75eb859f608cf81badc0de19ac9bb4b82a109a28415d3804e644ae5e44805392"
   }
  }
 },
 "nbformat": 4,
 "nbformat_minor": 2
}
