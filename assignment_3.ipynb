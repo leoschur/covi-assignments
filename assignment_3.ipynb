{
 "cells": [
  {
   "cell_type": "code",
   "execution_count": null,
   "metadata": {},
   "outputs": [],
   "source": [
    "# %% imports\n",
    "import numpy as np\n",
    "import matplotlib.pyplot as plt\n",
    "import cv2 as cv"
   ]
  },
  {
   "attachments": {},
   "cell_type": "markdown",
   "metadata": {},
   "source": [
    "# task 1\n",
    "Schreiben Sie ein Programm, wo das Bild (circles1.png) eingelesen und mit matplotlib gezeigt wird."
   ]
  },
  {
   "attachments": {},
   "cell_type": "markdown",
   "metadata": {},
   "source": [
    "# task 2\n",
    "Segmentieren Sie alle Kreise und speichern Sie die Maske (das Binärbild) ab."
   ]
  },
  {
   "attachments": {},
   "cell_type": "markdown",
   "metadata": {},
   "source": [
    "# task 3\n",
    "Segmentieren Sie jetzt Kreise, die die gleichen Intensitätswerte haben. Wie viele Masken bekommen Sie in diesem Fall? Speichern Ihre Ergebnisse ab."
   ]
  },
  {
   "attachments": {},
   "cell_type": "markdown",
   "metadata": {},
   "source": [
    "# task 4\n",
    "Finden Sie die Raumkoordinate vom Pixel P, das im Zentrum des Bildes liegt. Segmentieren Sie nur die Kreise, die rechts unten von dem P liegen. Visualisieren Sie Ihre Ergebnisse."
   ]
  },
  {
   "attachments": {},
   "cell_type": "markdown",
   "metadata": {},
   "source": [
    "# task 5\n",
    "Berechnen Sie die Connected Components auf den Masken und plotten Sie nur die größte Region in jeder Maske."
   ]
  },
  {
   "attachments": {},
   "cell_type": "markdown",
   "metadata": {},
   "source": [
    "# task 6\n",
    "Schreiben Sie ein Programm, wo das Bild (circles_rauschen.png) eingelesen und mit matplotlib gezeigt wird."
   ]
  },
  {
   "attachments": {},
   "cell_type": "markdown",
   "metadata": {},
   "source": [
    "# task 7\n",
    "Versuchen Sie jetzt die Kreise zu segmentieren (Aufgaben 2-5).\n"
   ]
  },
  {
   "attachments": {},
   "cell_type": "markdown",
   "metadata": {},
   "source": [
    "# task 8\n",
    "Wie gut sind Ihre Segmentierungsergebnisse? Quantifizieren Sie Ihre Aussage. Hinweis: Was können Sie als Gold Standard nutzen?"
   ]
  }
 ],
 "metadata": {
  "kernelspec": {
   "display_name": "env",
   "language": "python",
   "name": "python3"
  },
  "language_info": {
   "name": "python",
   "version": "3.11.1 (main, Dec  7 2022, 00:00:00) [GCC 12.2.1 20221121 (Red Hat 12.2.1-4)]"
  },
  "orig_nbformat": 4,
  "vscode": {
   "interpreter": {
    "hash": "75eb859f608cf81badc0de19ac9bb4b82a109a28415d3804e644ae5e44805392"
   }
  }
 },
 "nbformat": 4,
 "nbformat_minor": 2
}
